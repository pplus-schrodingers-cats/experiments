{
 "cells": [
  {
   "metadata": {},
   "cell_type": "markdown",
   "source": [
    "In this file I just tried around with different values to figure out if it's feasible to try to cool our cloud-chamber experiment with peltier-elements\n",
    "\n",
    "$U$ describes the heat transfer coefficient is the smaller the better we insulate our cloud chamber\n",
    "\n",
    "$\\mathrm{COP}$ describes the Coefficient of Power of the Peltier element so $\\frac{\\text{Removed Heat}}{\\text{Power consumed}}$ (according to internet at least about 0.4 for current Peltier elements)"
   ],
   "id": "1e92edef2b6ed37c"
  },
  {
   "cell_type": "code",
   "id": "4e08b5d6ff1040f8",
   "metadata": {
    "ExecuteTime": {
     "end_time": "2025-03-16T18:37:48.315203Z",
     "start_time": "2025-03-16T18:37:48.180786Z"
    }
   },
   "source": [
    "import ipywidgets as widgets\n",
    "from ipywidgets import interact"
   ],
   "outputs": [],
   "execution_count": 1
  },
  {
   "metadata": {
    "collapsed": true,
    "ExecuteTime": {
     "end_time": "2025-03-16T18:44:18.784937Z",
     "start_time": "2025-03-16T18:44:18.777914Z"
    }
   },
   "cell_type": "code",
   "source": [
    "def get_needed_power(sidelength_1, sidelength_2, U, T_room, T_target, COP):\n",
    "    \"\"\"\n",
    "    Calculates the required electrical input power for a Peltier cooling system.\n",
    "    \n",
    "    Parameters:\n",
    "    - sidelength_1,2: Sidelengths of cooled area,\n",
    "    - U: Overall heat transfer coefficient (W/m²·K).\n",
    "    - T_room: Ambient (room) temperature (°C).\n",
    "    - T_target: Target (cold side) temperature (°C).\n",
    "    - COP: Coefficient of performance of the Peltier system.\n",
    "    \n",
    "    Returns:\n",
    "    A string summarizing the temperature difference, heat load, and required input power.\n",
    "    \"\"\"\n",
    "    # Temperature difference (in °C or K)\n",
    "    deltaT = T_room - T_target\n",
    "    # Heat load in watts\n",
    "    area = sidelength_1 * sidelength_2 * 100\n",
    "    Q_loss = U * area * deltaT\n",
    "    \n",
    "    if COP <= 0:\n",
    "        return \"Error: COP must be greater than 0.\"\n",
    "    \n",
    "    # Required electrical input power in watts\n",
    "    P_input = Q_loss / COP\n",
    "    \n",
    "    return P_input\n",
    "\t"
   ],
   "id": "initial_id",
   "outputs": [],
   "execution_count": 9
  },
  {
   "metadata": {
    "ExecuteTime": {
     "end_time": "2025-03-16T18:46:03.414478Z",
     "start_time": "2025-03-16T18:46:03.408570Z"
    }
   },
   "cell_type": "code",
   "source": [
    "def amount_of_peltier_elements(sidelength_1, sidelength_2, U, T_room, T_target, COP, peltier_voltage, peltier_current, peltier_cost):\n",
    "    P_input = get_needed_power(sidelength_1, sidelength_2, U, T_room, T_target, COP)\n",
    "    peltier_wattage = peltier_current * peltier_voltage\n",
    "    Number_peltier = P_input / peltier_voltage\n",
    "    total_cost = Number_peltier * peltier_cost\n",
    "    print(f\"Needed Wattage: {P_input:.2f} W\\n\"\n",
    "          f\"Wattage per Element: {peltier_wattage:.2f} W\\n\"\n",
    "          f\"Required Elemets (P_in): {Number_peltier:.1f}\\n\"\n",
    "\t\t  f\"Estimated Cost: {total_cost:.2f} CHF\")"
   ],
   "id": "a88191d4f2cc7308",
   "outputs": [],
   "execution_count": 12
  },
  {
   "metadata": {
    "ExecuteTime": {
     "end_time": "2025-03-16T18:46:57.279288Z",
     "start_time": "2025-03-16T18:46:57.237467Z"
    }
   },
   "cell_type": "code",
   "source": [
    "# Create interactive sliders for each parameter:\n",
    "interact(amount_of_peltier_elements,\n",
    "         sidelength_1=widgets.FloatSlider(value=0.25, min=0.1, max=1.0, step=0.01, description='Sidelength 1 (cm)'),\n",
    "         sidelength_2=widgets.FloatSlider(value=0.25, min=0.1, max=1.0, step=0.01, description='Sidelength 2 (cm)'),\n",
    "         U=widgets.FloatSlider(value=4.0, min=0.1, max=10.0, step=0.1, description='U (W/m²K)'),\n",
    "         T_room=widgets.FloatSlider(value=24, min=-20, max=50, step=1, description='Ambient (°C)'),\n",
    "         T_target=widgets.FloatSlider(value=-80, min=-150, max=20, step=1, description='Target (°C)'),\n",
    "         COP=widgets.FloatSlider(value=0.4, min=0.01, max=1.0, step=0.01, description='COP'),\n",
    "\t\t peltier_voltage=widgets.FloatSlider(value=12, min=0.01, max=100.0, step=0.01, description='Peltier Voltage [V]'),\n",
    "\t\t peltier_current=widgets.FloatSlider(value=3, min=0.01, max=100.0, step=0.01, description='Peltier Current [A]'),\n",
    "\t\t peltier_cost=widgets.FloatSlider(value=10.0, min=0.01, max=100.0, step=0.01, description='Cost per Element [CHF]'),\n",
    "        )"
   ],
   "id": "69283611c9fce0af",
   "outputs": [
    {
     "data": {
      "text/plain": [
       "interactive(children=(FloatSlider(value=0.25, description='Sidelength 1 (cm)', max=1.0, min=0.1, step=0.01), F…"
      ],
      "application/vnd.jupyter.widget-view+json": {
       "version_major": 2,
       "version_minor": 0,
       "model_id": "a8e32a613a4f4e1ba09f00031c8eb904"
      }
     },
     "metadata": {},
     "output_type": "display_data"
    },
    {
     "data": {
      "text/plain": [
       "<function __main__.amount_of_peltier_elements(sidelength_1, sidelength_2, U, T_room, T_target, COP, peltier_voltage, peltier_current, peltier_cost)>"
      ]
     },
     "execution_count": 15,
     "metadata": {},
     "output_type": "execute_result"
    }
   ],
   "execution_count": 15
  },
  {
   "metadata": {
    "ExecuteTime": {
     "end_time": "2025-03-16T18:37:48.957004Z",
     "start_time": "2025-03-16T18:37:48.951587Z"
    }
   },
   "cell_type": "code",
   "source": "",
   "id": "c937b02ecf8d4e10",
   "outputs": [],
   "execution_count": null
  }
 ],
 "metadata": {
  "kernelspec": {
   "display_name": "Python 3",
   "language": "python",
   "name": "python3"
  },
  "language_info": {
   "codemirror_mode": {
    "name": "ipython",
    "version": 2
   },
   "file_extension": ".py",
   "mimetype": "text/x-python",
   "name": "python",
   "nbconvert_exporter": "python",
   "pygments_lexer": "ipython2",
   "version": "2.7.6"
  }
 },
 "nbformat": 4,
 "nbformat_minor": 5
}

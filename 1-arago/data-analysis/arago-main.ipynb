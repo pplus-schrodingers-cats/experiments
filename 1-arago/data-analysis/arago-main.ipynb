{
 "cells": [
  {
   "cell_type": "code",
   "execution_count": 25,
   "metadata": {},
   "outputs": [],
   "source": [
    "import numpy as np\n",
    "import matplotlib.pyplot as plt\n",
    "import rawpy \n",
    "import os\n",
    "from pathlib import Path"
   ]
  },
  {
   "cell_type": "markdown",
   "metadata": {},
   "source": [
    "## Read raw images file\n",
    "Using rawpy library to read the pixel values. [Documentation](https://letmaik.github.io/rawpy/api/rawpy.RawPy.html)\n",
    "\n",
    "The camera should be 4000 * 6000 pixels but the raw image only has 3464*5202"
   ]
  },
  {
   "cell_type": "code",
   "execution_count": null,
   "metadata": {},
   "outputs": [
    {
     "name": "stdout",
     "output_type": "stream",
     "text": [
      "[[0.00075758 0.00530303 0.01742424 ... 0.00378788 0.00681818 0.00909091]\n",
      " [0.01060606 0.0030303  0.         ... 0.         0.         0.00227273]\n",
      " [0.         0.         0.         ... 0.         0.00530303 0.00151515]\n",
      " ...\n",
      " [0.00530303 0.00757576 0.00681818 ... 0.         0.         0.00378788]\n",
      " [0.00606061 0.00606061 0.01060606 ... 0.         0.00681818 0.00075758]\n",
      " [0.00151515 0.00909091 0.         ... 0.00227273 0.00757576 0.        ]]\n",
      "1.0\n"
     ]
    },
    {
     "data": {
      "image/png": "[encoded data removed]",
      "text/plain": [
       "<Figure size 640x480 with 1 Axes>"
      ]
     },
     "metadata": {},
     "output_type": "display_data"
    }
   ],
   "source": [
    "# use rawpy library to read the pixel intensity values of the raw image\n",
    "\n",
    "pardir = Path.cwd().parent\n",
    "file = os.path.join(pardir, \"experiment-images/camera-1/IMG_1807.CR2\")\n",
    "\n",
    "raw = rawpy.imread(file) \n",
    "black_level = raw.black_level_per_channel # black level offset \n",
    "raw_image = raw.raw_image_visible.astype(np.float32) # raw pixel intensity value\n",
    "raw_image = raw_image - black_level[0] # apply black level correction\n",
    "raw_image = np.clip(raw_image, 0, None) # avoid negavative values\n",
    "raw_image_norm = raw_image / np.max(raw_image)\n",
    "\n",
    "print(raw_image_norm)\n",
    "\n",
    "rgb_image = raw.postprocess() # rgb image for visualisation\n",
    "\n",
    "x_max, y_max = np.unravel_index(np.argmax(raw_image_norm), raw_image.shape)\n",
    "print(np.max(raw_image_norm))\n",
    "\n",
    "# min_index = np.unravel_index(np.argmin(raw_image), raw_image.shape)\n",
    "# print(min_index)\n",
    "\n",
    "# print(raw_image.shape)\n",
    "\n",
    "# print(raw.raw_value(*min_index))\n",
    "\n",
    "# Diplay image\n",
    "plt.imshow(raw_image_norm, cmap='gray')\n",
    "plt.scatter(x_max, y_max, color='red', marker = 'x')\n",
    "plt.axis(\"off\")\n",
    "plt.tight_layout()\n",
    "plt.show()\n",
    "\n"
   ]
  },
  {
   "cell_type": "code",
   "execution_count": null,
   "metadata": {},
   "outputs": [],
   "source": [
    "# crop picture by taking bounds of non-black pixels\n",
    "def crop_image(raw_image):\n",
    "    raw_image_norm = raw_image / np.max(raw_image)\n",
    "    non_black_pixels = np.argwhere(raw_image)"
   ]
  },
  {
   "cell_type": "code",
   "execution_count": null,
   "metadata": {},
   "outputs": [],
   "source": []
  }
 ],
 "metadata": {
  "kernelspec": {
   "display_name": "Python 3",
   "language": "python",
   "name": "python3"
  },
  "language_info": {
   "codemirror_mode": {
    "name": "ipython",
    "version": 3
   },
   "file_extension": ".py",
   "mimetype": "text/x-python",
   "name": "python",
   "nbconvert_exporter": "python",
   "pygments_lexer": "ipython3",
   "version": "3.10.12"
  }
 },
 "nbformat": 4,
 "nbformat_minor": 2
}

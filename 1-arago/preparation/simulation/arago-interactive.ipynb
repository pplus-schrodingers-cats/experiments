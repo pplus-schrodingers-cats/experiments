{
 "cells": [
  {
   "cell_type": "code",
   "id": "initial_id",
   "metadata": {
    "collapsed": true,
    "ExecuteTime": {
     "end_time": "2025-03-12T13:53:32.156283Z",
     "start_time": "2025-03-12T13:53:20.407606Z"
    }
   },
   "source": [
    "from diffractio import np, plt, um, mm, nm\n",
    "from diffractio.scalar_masks_XY import Scalar_mask_XY\n",
    "from diffractio.scalar_sources_XY import Scalar_source_XY\n",
    "import numpy as np\n",
    "import matplotlib.pyplot as plt\n",
    "from ipywidgets import widgets, interact"
   ],
   "outputs": [],
   "execution_count": 1
  },
  {
   "cell_type": "code",
   "id": "69224f15bab3ac74",
   "metadata": {
    "ExecuteTime": {
     "end_time": "2025-03-12T13:53:32.208733Z",
     "start_time": "2025-03-12T13:53:32.186711Z"
    }
   },
   "source": [
    "def update_plot(\n",
    "        diameter_mm, \n",
    "        screen_distance_cm, \n",
    "        resolution,\n",
    "        wavelength_nm,\n",
    "        shape,\n",
    "        minor_diameter_mm, \n",
    "        n, \n",
    "        roughness_um,\n",
    "    ):\n",
    "\n",
    "    radius = 0.5 * diameter_mm * mm\n",
    "    minor_radius = minor_diameter_mm * 0.5 * mm\n",
    "    screen_distance = screen_distance_cm * 10 * mm\n",
    "    roughness = roughness_um * um\n",
    "    beam_radius = 1.5 * radius\n",
    "    area_width = 2 * radius\n",
    "\n",
    "    x0 = np.linspace(-area_width, area_width, resolution)\n",
    "    y0 = np.linspace(-area_width, area_width, resolution)\n",
    "    wavelength = wavelength_nm * nm\n",
    "\n",
    "    u0 = Scalar_source_XY(x0, y0, wavelength)\n",
    "    u0.gauss_beam(r0=(0 * um, 0 * um), w0=beam_radius, z0=0, A=1, theta=0.0)\n",
    "\n",
    "    obstacle = Scalar_mask_XY(x0, y0, wavelength)\n",
    "\n",
    "    # Shape selection\n",
    "    match shape:\n",
    "        case \"Rough Circle\":\n",
    "            obstacle.circle_rough(r0=(0 * um, 0 * um), radius=radius, sigma=roughness, angle=0)\n",
    "        case \"Ellipse\":\n",
    "            obstacle.circle(r0=(0 * um, 0 * um), radius=(radius, minor_radius))\n",
    "        case \"Rough Ellipse\":\n",
    "            obstacle.circle_rough(r0=(0 * um, 0 * um), radius=(radius, minor_radius), sigma=roughness, angle=0)\n",
    "        case \"ETH\":  # ETH Zurich Logo-like shape\n",
    "            obstacle.image(\"./eth logo.png\")\n",
    "        case \"Star\":\n",
    "            obstacle.star(n, radii=[radius, minor_radius] * n)\n",
    "        case \"Regular n-gon\":\n",
    "            obstacle.regular_polygon(n,radius)\n",
    "        case _:\n",
    "            obstacle.circle(r0=(0 * um, 0 * um), radius=radius)\n",
    "\n",
    "    obstacle.inverse_amplitude()\n",
    "    obstacle.draw()\n",
    "    u1 = u0 * obstacle\n",
    "    arago_point = u1.RS(z=screen_distance)\n",
    "    arago_point.draw()\n",
    "    arago_point.draw_profile([-area_width, 0], [area_width, 0], npixels=resolution, order=3)\n",
    "    plt.show()\n"
   ],
   "outputs": [],
   "execution_count": 2
  },
  {
   "cell_type": "code",
   "id": "9babdbe8",
   "metadata": {
    "ExecuteTime": {
     "end_time": "2025-03-12T13:53:33.088647Z",
     "start_time": "2025-03-12T13:53:33.066306Z"
    }
   },
   "source": [
    "diameter_box = widgets.BoundedFloatText(min=0, max=4.0, step=0.05, value=1.0, description='Diameter [mm]', continuous_update=False)\n",
    "screen_distance_slider = widgets.FloatSlider(min=1, max=100, step=1, value=50, description='Screen Distance [cm]', continuous_update=False)\n",
    "resolution_box = widgets.BoundedIntText(min=1, max=4096, step=1, value=128, description='Resolution', continuous_update=False)\n",
    "shape_selector = widgets.Dropdown(options=['Circle', 'Rough Circle', 'Ellipse', 'Superellipse', 'Star', 'Regular n-gon', 'ETH'], description=\"Shape\")\n",
    "wavelength_box = widgets.BoundedFloatText(min=200, max=1000, value=632.8, description=\"Wavelength [nm]\")\n",
    "# Shape-specific parameter widgets\n",
    "minor_diameter_box = widgets.BoundedFloatText(min=0, max=4.0, step=0.05, value=0.8, description=\"Minor Diameter [mm]\", continuous_update=False)\n",
    "roughness_box = widgets.BoundedFloatText(min=3, max=4000, step=1, value=5, description=\"Roughness [µm]\", continuous_update=False)\n",
    "n_box = widgets.BoundedIntText(min=1, value=5, description=\"n\", continuous_update=False)\n",
    "\n",
    "\n",
    "# Container for shape-specific widgets\n",
    "shape_specific_widgets = widgets.VBox([])\n",
    "\n",
    "# UI layout\n",
    "ui = widgets.VBox([diameter_box, screen_distance_slider, wavelength_box, resolution_box, shape_selector, shape_specific_widgets])\n",
    "\n",
    "def update_ui(*args):\n",
    "    global shape_selector, shape_specific_widgets\n",
    "    shape = shape_selector.value\n",
    "    shape_specific_widgets.children = []\n",
    "    \n",
    "    match shape:\n",
    "        case \"Rough Circle\":\n",
    "            shape_specific_widgets.children = [roughness_box]\n",
    "        case \"Rough Ellipse\":\n",
    "            shape_specific_widgets.children = [minor_diameter_box, roughness_box]\n",
    "        case \"Ellipse\":\n",
    "            shape_specific_widgets.children = [minor_diameter_box]\n",
    "        case \"Star\":\n",
    "            shape_specific_widgets.children = [n_box, minor_diameter_box]\n",
    "        case \"Regular n-gon\":\n",
    "            shape_specific_widgets.children = [n_box]\n",
    "\n",
    "\n",
    "# Observe shape selection change\n",
    "shape_selector.observe(update_ui, names='value')\n"
   ],
   "outputs": [],
   "execution_count": 3
  },
  {
   "cell_type": "code",
   "id": "76b06eae",
   "metadata": {
    "ExecuteTime": {
     "end_time": "2025-03-12T13:53:34.000678Z",
     "start_time": "2025-03-12T13:53:33.179532Z"
    }
   },
   "source": [
    "output = widgets.interactive_output(update_plot, {\n",
    "    'diameter_mm': diameter_box, \n",
    "    'screen_distance_cm': screen_distance_slider,\n",
    "    'wavelength_nm': wavelength_box,\n",
    "    'resolution': resolution_box,\n",
    "    'shape': shape_selector,\n",
    "    'minor_diameter_mm': minor_diameter_box,\n",
    "    'n': n_box,\n",
    "    'roughness_um': roughness_box,\n",
    "})\n",
    "\n",
    "# Display UI and output\n",
    "ui.layout\n",
    "output.layout.width= \"300px\"\n",
    "display(ui, output)"
   ],
   "outputs": [
    {
     "data": {
      "text/plain": [
       "VBox(children=(BoundedFloatText(value=1.0, description='Diameter [mm]', max=4.0, step=0.05), FloatSlider(value…"
      ],
      "application/vnd.jupyter.widget-view+json": {
       "version_major": 2,
       "version_minor": 0,
       "model_id": "56c30925f6a14ea7b3889939b2909543"
      }
     },
     "metadata": {},
     "output_type": "display_data"
    },
    {
     "data": {
      "text/plain": [
       "Output(layout=Layout(width='300px'))"
      ],
      "application/vnd.jupyter.widget-view+json": {
       "version_major": 2,
       "version_minor": 0,
       "model_id": "c2ba33c0c4904caf8bd07f44432ed268"
      }
     },
     "metadata": {},
     "output_type": "display_data"
    }
   ],
   "execution_count": 4
  }
 ],
 "metadata": {
  "kernelspec": {
   "display_name": "Python 3",
   "language": "python",
   "name": "python3"
  },
  "language_info": {
   "codemirror_mode": {
    "name": "ipython",
    "version": 3
   },
   "file_extension": ".py",
   "mimetype": "text/x-python",
   "name": "python",
   "nbconvert_exporter": "python",
   "pygments_lexer": "ipython3",
   "version": "3.11.4"
  }
 },
 "nbformat": 4,
 "nbformat_minor": 5
}

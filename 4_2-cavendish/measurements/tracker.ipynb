{
 "cells": [
  {
   "metadata": {
    "ExecuteTime": {
     "end_time": "2025-04-21T01:40:36.216921Z",
     "start_time": "2025-04-21T01:40:36.210802Z"
    }
   },
   "cell_type": "code",
   "source": [
    "import numpy as np\n",
    "import os\n",
    "from PIL import Image, ExifTags\n",
    "from PIL import ImageOps, ImageEnhance\n",
    "from PIL.ExifTags import TAGS\n",
    "from datetime import datetime\n",
    "import matplotlib.pyplot as plt"
   ],
   "id": "ef3001d6f3d0f6e2",
   "outputs": [],
   "execution_count": 133
  },
  {
   "metadata": {
    "ExecuteTime": {
     "end_time": "2025-04-21T01:40:36.260966Z",
     "start_time": "2025-04-21T01:40:36.251507Z"
    }
   },
   "cell_type": "code",
   "source": [
    "def load_band(filename, laser_height, band_width):\n",
    "\timg = Image.open(filename)\n",
    "\timg = ImageOps.exif_transpose(img)  # rotate image according to metadata\n",
    "\t# #only take green channel to better isolate the laser\n",
    "\timg = img.getchannel(\"G\")\n",
    "\timg = img.crop((0, laser_height - band_width, img.width, laser_height + band_width))\n",
    "\treturn img"
   ],
   "id": "242f7409710da513",
   "outputs": [],
   "execution_count": 134
  },
  {
   "metadata": {
    "ExecuteTime": {
     "end_time": "2025-04-21T01:40:36.333015Z",
     "start_time": "2025-04-21T01:40:36.325643Z"
    }
   },
   "cell_type": "code",
   "source": [
    "def get_x_pixel(filename, laser_height=1350, band_width=50):\n",
    "\t# TODO: somehow incorporate uncertainties (maybe)\n",
    "\timg = np.array(load_band(filename, laser_height, band_width))\n",
    "\taveraged = img.mean(axis=0)\n",
    "\treturn np.argmax(averaged)"
   ],
   "id": "50ab0629b51250af",
   "outputs": [],
   "execution_count": 135
  },
  {
   "metadata": {
    "ExecuteTime": {
     "end_time": "2025-04-21T01:40:36.386044Z",
     "start_time": "2025-04-21T01:40:36.375256Z"
    }
   },
   "cell_type": "code",
   "source": [
    "def get_timestamp(filepath):\n",
    "    try:\n",
    "        img = Image.open(filepath)\n",
    "        exif = img._getexif()\n",
    "        if exif:\n",
    "            for tag, value in exif.items():\n",
    "                if TAGS.get(tag) == \"DateTimeOriginal\":\n",
    "                    return datetime.strptime(value, \"%Y:%m:%d %H:%M:%S\")\n",
    "    except Exception as e:\n",
    "        print(f\"Error reading {filepath}: {e}\")\n",
    "    return None\n",
    "\n",
    "def load_and_sort_images(directory):\n",
    "    files = [os.path.join(directory, f) for f in os.listdir(directory) if f.lower().endswith(('.jpg', '.jpeg', '.png', '.tiff'))]\n",
    "    data = [(f, get_timestamp(f)) for f in files]\n",
    "    data.sort(key=lambda x: x[1])\n",
    "    return np.array(data)\n"
   ],
   "id": "a2239dc91347e4c7",
   "outputs": [],
   "execution_count": 136
  },
  {
   "metadata": {
    "collapsed": true,
    "ExecuteTime": {
     "end_time": "2025-04-21T01:40:36.473054Z",
     "start_time": "2025-04-21T01:40:36.463845Z"
    }
   },
   "cell_type": "code",
   "source": [
    "def create_time_series(directory, laser_height=1350, band_width=50):\n",
    "\timages = load_and_sort_images(directory)\n",
    "\tfirst_time = images[0][1]\n",
    "\treturn np.array([[(time - first_time).total_seconds(), get_x_pixel(image_path, laser_height, band_width)] for image_path, time in images])\n"
   ],
   "id": "initial_id",
   "outputs": [],
   "execution_count": 137
  },
  {
   "metadata": {
    "ExecuteTime": {
     "end_time": "2025-04-21T01:40:36.491317Z",
     "start_time": "2025-04-21T01:40:36.479968Z"
    }
   },
   "cell_type": "code",
   "source": [
    "def calculate_x_coordinates(series, meter_left_edge=1.18, meter_right_edge=2.5, image_width=4098):\n",
    "    series_meters = np.copy(series)\n",
    "    series_meters[:,1] = series_meters[:,1]/image_width * (meter_right_edge - meter_left_edge) + meter_left_edge\n",
    "    return series_meters\n"
   ],
   "id": "563fd6f68056b5f7",
   "outputs": [],
   "execution_count": 138
  },
  {
   "metadata": {
    "ExecuteTime": {
     "end_time": "2025-04-21T01:42:14.353921Z",
     "start_time": "2025-04-21T01:40:36.524684Z"
    }
   },
   "cell_type": "code",
   "source": [
    "# The tracker works by sorting all the images in a folder, then taking a thin slice (containing the laserpointer) of each image and looking for the brightest spot (in the green channel) for \n",
    "\n",
    "# Tutorial:\n",
    "# - pick directory of the measurement and write that into the \"directory\" keyword below\n",
    "# - determine the y-position of the laser and write the value into the keyword argument \"laser_height\" in \"create_time_series\" below\n",
    "#    (if needed adjust the width of the band around which it cuts but ±50 pixels should be fine)\n",
    "# - determine the left/right most increments of the measuring tape and write those values into the keyword-arguments \"meter_left_edge\", \"meter_right_edge\" in the keyword arguments of \"calculate_x_coordinates\"\n",
    "\n",
    "series = create_time_series(\n",
    "\tdirectory = \"./measurement1\",\n",
    "\tlaser_height=1350, \n",
    "\tband_width=50\n",
    ")\n",
    "# WARNING: this might take up to 2-3 minutes every time it's executed"
   ],
   "id": "c77b9b75afcb837b",
   "outputs": [],
   "execution_count": 139
  },
  {
   "metadata": {
    "ExecuteTime": {
     "end_time": "2025-04-21T01:42:14.534261Z",
     "start_time": "2025-04-21T01:42:14.386437Z"
    }
   },
   "cell_type": "code",
   "source": [
    "series_meter = calculate_x_coordinates(\n",
    "\tseries,\n",
    "\tmeter_left_edge=1.18,\n",
    "\tmeter_right_edge=2.5,\n",
    "\timage_width=4098\n",
    ")\n",
    "plt.plot(*series_meter.T)\n",
    "plt.xlabel(\"Time [s]\")\n",
    "plt.ylabel(\"X [m]\")\n",
    "plt.show()"
   ],
   "id": "d03cc8c74f6cbc7b",
   "outputs": [
    {
     "data": {
      "text/plain": [
       "<Figure size 640x480 with 1 Axes>"
      ],
      "image/png": "[encoded data removed]"
     },
     "metadata": {},
     "output_type": "display_data"
    }
   ],
   "execution_count": 140
  }
 ],
 "metadata": {
  "kernelspec": {
   "display_name": "Python 3",
   "language": "python",
   "name": "python3"
  },
  "language_info": {
   "codemirror_mode": {
    "name": "ipython",
    "version": 2
   },
   "file_extension": ".py",
   "mimetype": "text/x-python",
   "name": "python",
   "nbconvert_exporter": "python",
   "pygments_lexer": "ipython2",
   "version": "2.7.6"
  }
 },
 "nbformat": 4,
 "nbformat_minor": 5
}
